{
 "cells": [
  {
   "cell_type": "code",
   "execution_count": 4,
   "id": "abe6dd57-18ff-4b79-86fe-abbb5ab4faad",
   "metadata": {},
   "outputs": [],
   "source": [
    "import torch"
   ]
  },
  {
   "cell_type": "code",
   "execution_count": 6,
   "id": "4c5f5048-2748-4b51-9474-c30800a43c9a",
   "metadata": {},
   "outputs": [
    {
     "name": "stdout",
     "output_type": "stream",
     "text": [
      "tensor([[-3.8168e-06,  2.1118e-42],\n",
      "        [ 0.0000e+00,  0.0000e+00],\n",
      "        [ 0.0000e+00,  0.0000e+00],\n",
      "        [ 0.0000e+00,  0.0000e+00]])\n"
     ]
    }
   ],
   "source": [
    "x = torch.empty(4, 2)\n",
    "print(x)"
   ]
  },
  {
   "cell_type": "code",
   "execution_count": 7,
   "id": "ffea8dd0-a6d9-4821-b177-f98ea97937e0",
   "metadata": {},
   "outputs": [
    {
     "name": "stdout",
     "output_type": "stream",
     "text": [
      "tensor([[0, 0],\n",
      "        [0, 0],\n",
      "        [0, 0],\n",
      "        [0, 0]])\n"
     ]
    }
   ],
   "source": [
    "x = torch.zeros(4, 2, dtype=torch.long)\n",
    "print(x)"
   ]
  },
  {
   "cell_type": "code",
   "execution_count": 8,
   "id": "0926a1f0-a64e-42be-8904-7552632b09a9",
   "metadata": {},
   "outputs": [
    {
     "name": "stdout",
     "output_type": "stream",
     "text": [
      "tensor([3.0000, 2.3000])\n"
     ]
    }
   ],
   "source": [
    "x = torch.tensor([3, 2.3])\n",
    "print(x)"
   ]
  },
  {
   "cell_type": "code",
   "execution_count": 13,
   "id": "2af05635-e346-466e-8163-fea8b4d05a0f",
   "metadata": {},
   "outputs": [
    {
     "name": "stdout",
     "output_type": "stream",
     "text": [
      "tensor([[1., 1., 1., 1.],\n",
      "        [1., 1., 1., 1.]], dtype=torch.float64)\n"
     ]
    }
   ],
   "source": [
    "x = x.new_ones(2, 4, dtype=torch.double) # 타입 변환\n",
    "print(x)"
   ]
  },
  {
   "cell_type": "code",
   "execution_count": 14,
   "id": "aa71bbf1-ed1c-4963-8f11-714bba4b2152",
   "metadata": {},
   "outputs": [
    {
     "name": "stdout",
     "output_type": "stream",
     "text": [
      "tensor([[-0.1444, -0.3261, -0.6770,  0.3874],\n",
      "        [ 0.4013,  0.1717,  0.7338,  0.9191]], dtype=torch.float64)\n"
     ]
    }
   ],
   "source": [
    "x = torch.randn_like(x, dtype=float)\n",
    "print(x)"
   ]
  },
  {
   "cell_type": "code",
   "execution_count": 15,
   "id": "bbbfefd7-8461-4729-88bb-750cf783ec84",
   "metadata": {},
   "outputs": [
    {
     "name": "stdout",
     "output_type": "stream",
     "text": [
      "torch.Size([2, 4])\n"
     ]
    }
   ],
   "source": [
    "print(x.size())"
   ]
  },
  {
   "cell_type": "code",
   "execution_count": 16,
   "id": "0613a024-cc43-481a-b1bc-d5aca8bed5c2",
   "metadata": {},
   "outputs": [
    {
     "name": "stdout",
     "output_type": "stream",
     "text": [
      "tensor([1., 2., 3.])\n",
      "torch.float32\n"
     ]
    }
   ],
   "source": [
    "ft = torch.FloatTensor([1,2,3])\n",
    "print(ft)\n",
    "print(ft.dtype)"
   ]
  },
  {
   "cell_type": "code",
   "execution_count": 17,
   "id": "b0d108bc-9259-4825-ad40-bdcdfe3c6ab0",
   "metadata": {},
   "outputs": [
    {
     "name": "stdout",
     "output_type": "stream",
     "text": [
      "tensor([1, 2, 3], dtype=torch.int16)\n",
      "tensor([1, 2, 3], dtype=torch.int32)\n",
      "tensor([1, 2, 3])\n"
     ]
    }
   ],
   "source": [
    "print(ft.short())\n",
    "print(ft.int())\n",
    "print(ft.long())"
   ]
  },
  {
   "cell_type": "code",
   "execution_count": 18,
   "id": "1f629eab-3b45-4e07-823a-d107037c1adf",
   "metadata": {},
   "outputs": [
    {
     "name": "stdout",
     "output_type": "stream",
     "text": [
      "torch.int32\n"
     ]
    }
   ],
   "source": [
    "it = torch.IntTensor([1,2,3])\n",
    "print(it.dtype)"
   ]
  },
  {
   "cell_type": "code",
   "execution_count": 20,
   "id": "f0b462d1-9928-4201-800a-373afd3218ba",
   "metadata": {},
   "outputs": [
    {
     "name": "stdout",
     "output_type": "stream",
     "text": [
      "tensor([1., 2., 3.])\n",
      "tensor([1., 2., 3.], dtype=torch.float64)\n",
      "tensor([1., 2., 3.], dtype=torch.float16)\n"
     ]
    }
   ],
   "source": [
    "print(it.float())\n",
    "print(it.double())\n",
    "print(it.half())"
   ]
  },
  {
   "cell_type": "code",
   "execution_count": 22,
   "id": "04597263-14f2-4ca4-a372-172a3761721d",
   "metadata": {},
   "outputs": [
    {
     "name": "stdout",
     "output_type": "stream",
     "text": [
      "tensor([-1.1262])\n",
      "-1.1261682510375977\n",
      "torch.float32\n"
     ]
    }
   ],
   "source": [
    "x = torch.randn(1)\n",
    "print(x)\n",
    "print(x.item())\n",
    "print(x.dtype)"
   ]
  },
  {
   "cell_type": "code",
   "execution_count": 23,
   "id": "2516e602-c966-4ef4-b89f-6a296cf20caf",
   "metadata": {},
   "outputs": [
    {
     "name": "stdout",
     "output_type": "stream",
     "text": [
      "cpu\n",
      "tensor([1.])\n",
      "tensor([-1.1262])\n",
      "tensor([-0.1262])\n",
      "tensor([-0.1262], dtype=torch.float64)\n"
     ]
    }
   ],
   "source": [
    "device = torch.device('cuda' if torch.cuda.is_available() else 'cpu')\n",
    "print(device)\n",
    "y = torch.ones_like(x, device=device)\n",
    "print(y)\n",
    "x = x.to(device)\n",
    "print(x)\n",
    "z = x + y\n",
    "print(z)\n",
    "print(z.to('cpu', torch.double))"
   ]
  },
  {
   "cell_type": "code",
   "execution_count": 25,
   "id": "6f90d3bc-17cf-4591-9d76-60111a65bd2f",
   "metadata": {},
   "outputs": [
    {
     "name": "stdout",
     "output_type": "stream",
     "text": [
      "0\n",
      "torch.Size([])\n",
      "tensor(0)\n"
     ]
    }
   ],
   "source": [
    "t0 = torch.tensor(0)\n",
    "print(t0.ndim)\n",
    "print(t0.shape)\n",
    "print(t0)"
   ]
  },
  {
   "cell_type": "code",
   "execution_count": 26,
   "id": "42348c92-5226-45e9-b005-940916aed4c3",
   "metadata": {},
   "outputs": [
    {
     "name": "stdout",
     "output_type": "stream",
     "text": [
      "1\n",
      "torch.Size([3])\n",
      "tensor([1, 2, 3])\n"
     ]
    }
   ],
   "source": [
    "t1 = torch.tensor([1,2,3])\n",
    "print(t1.ndim)\n",
    "print(t1.shape)\n",
    "print(t1)"
   ]
  },
  {
   "cell_type": "code",
   "execution_count": 28,
   "id": "ae085463-c8a2-4f8d-aba6-86746b84fbf8",
   "metadata": {},
   "outputs": [
    {
     "name": "stdout",
     "output_type": "stream",
     "text": [
      "2\n",
      "torch.Size([3, 3])\n",
      "tensor([[1, 2, 3],\n",
      "        [4, 5, 6],\n",
      "        [7, 8, 9]])\n"
     ]
    }
   ],
   "source": [
    "t2 = torch.tensor([ [1,2,3],\n",
    "                    [4,5,6],\n",
    "                    [7,8,9] ])\n",
    "print(t2.ndim)\n",
    "print(t2.shape)\n",
    "print(t2)"
   ]
  },
  {
   "cell_type": "code",
   "execution_count": 31,
   "id": "ffadae53-7f26-44c2-891f-212e922a1fe9",
   "metadata": {},
   "outputs": [
    {
     "name": "stdout",
     "output_type": "stream",
     "text": [
      "3\n",
      "torch.Size([3, 3, 3])\n",
      "tensor([[[1, 2, 3],\n",
      "         [4, 5, 6],\n",
      "         [7, 8, 9]],\n",
      "\n",
      "        [[1, 2, 3],\n",
      "         [4, 5, 6],\n",
      "         [7, 8, 9]],\n",
      "\n",
      "        [[1, 2, 3],\n",
      "         [4, 5, 6],\n",
      "         [7, 8, 9]]])\n"
     ]
    }
   ],
   "source": [
    "t3 = torch.tensor([[[1,2,3],\n",
    "                    [4,5,6],\n",
    "                    [7,8,9]],\n",
    "                    [[1,2,3],\n",
    "                    [4,5,6],\n",
    "                    [7,8,9]],\n",
    "                    [[1,2,3],\n",
    "                    [4,5,6],\n",
    "                    [7,8,9]]])\n",
    "print(t3.ndim)\n",
    "print(t3.shape)\n",
    "print(t3)"
   ]
  },
  {
   "cell_type": "code",
   "execution_count": 32,
   "id": "b9e61441-7bab-4de6-93f1-27048b3b45c1",
   "metadata": {},
   "outputs": [],
   "source": [
    "import math"
   ]
  },
  {
   "cell_type": "code",
   "execution_count": 40,
   "id": "d14d90c4-d4ca-4e7c-8d9b-46e5d4e79446",
   "metadata": {},
   "outputs": [
    {
     "name": "stdout",
     "output_type": "stream",
     "text": [
      "tensor([[-0.8315,  0.9428]])\n",
      "tensor([[0.8315, 0.9428]])\n",
      "tensor([[-0., 1.]])\n",
      "tensor([[-1.,  0.]])\n",
      "tensor([[-0.5000,  0.5000]])\n"
     ]
    }
   ],
   "source": [
    "x = torch.rand(1, 2) * 2 - 1\n",
    "print(x)\n",
    "print(torch.abs(x))\n",
    "print(torch.ceil(x)) # 올림\n",
    "print(torch.floor(x)) # 내림\n",
    "print(torch.clamp(x, -0.5, 0.5)) # 최대, 최소값 한정"
   ]
  },
  {
   "cell_type": "code",
   "execution_count": 42,
   "id": "491aa90a-68bb-49da-9661-88c8004b9435",
   "metadata": {},
   "outputs": [
    {
     "name": "stdout",
     "output_type": "stream",
     "text": [
      "tensor(-0.8315)\n",
      "tensor(0.9428)\n",
      "tensor(0.0557)\n",
      "tensor(1.2546)\n",
      "tensor(-0.7839)\n",
      "tensor([1, 2, 3])\n"
     ]
    }
   ],
   "source": [
    "print(torch.min(x))\n",
    "print(torch.max(x))\n",
    "print(torch.mean(x))\n",
    "print(torch.std(x)) # 표준편차\n",
    "print(torch.prod(x))\n",
    "print(torch.unique(torch.tensor([1,2,3,1,2,2,]))) # 중복을 제거함"
   ]
  },
  {
   "cell_type": "code",
   "execution_count": 47,
   "id": "2b3333af-a5fd-44d3-beeb-2b83baaa74bc",
   "metadata": {},
   "outputs": [
    {
     "name": "stdout",
     "output_type": "stream",
     "text": [
      "tensor([[0.8612, 0.3039],\n",
      "        [0.5661, 0.5073]])\n",
      "torch.return_types.max(\n",
      "values=tensor([0.8612, 0.5073]),\n",
      "indices=tensor([0, 1]))\n",
      "torch.return_types.max(\n",
      "values=tensor([0.8612, 0.5661]),\n",
      "indices=tensor([0, 0]))\n"
     ]
    }
   ],
   "source": [
    "x = torch.rand(2, 2)\n",
    "print(x)\n",
    "print(x.max(dim=0))\n",
    "print(x.max(dim=1))"
   ]
  },
  {
   "cell_type": "code",
   "execution_count": 49,
   "id": "561fa91c-0ba6-4b73-850d-133742b56314",
   "metadata": {},
   "outputs": [
    {
     "name": "stdout",
     "output_type": "stream",
     "text": [
      "tensor([[0.7907, 0.8693],\n",
      "        [0.0285, 0.1338]])\n",
      "torch.return_types.min(\n",
      "values=tensor([0.0285, 0.1338]),\n",
      "indices=tensor([1, 1]))\n",
      "torch.return_types.min(\n",
      "values=tensor([0.7907, 0.0285]),\n",
      "indices=tensor([0, 0]))\n"
     ]
    }
   ],
   "source": [
    "x = torch.rand(2, 2)\n",
    "print(x)\n",
    "print(x.min(dim=0))\n",
    "print(x.min(dim=1))"
   ]
  },
  {
   "cell_type": "code",
   "execution_count": 50,
   "id": "c12df75f-a07e-45d6-bf40-a6322aa5665e",
   "metadata": {},
   "outputs": [
    {
     "name": "stdout",
     "output_type": "stream",
     "text": [
      "tensor([[0.0698, 0.0101],\n",
      "        [0.6450, 0.7239]])\n",
      "tensor([[0.8103, 0.1495],\n",
      "        [0.7829, 0.3845]])\n"
     ]
    }
   ],
   "source": [
    "x = torch.rand(2, 2)\n",
    "print(x)\n",
    "y = torch.rand(2, 2)\n",
    "print(y)"
   ]
  },
  {
   "cell_type": "code",
   "execution_count": 51,
   "id": "78b46ab0-cd29-45da-a6a8-5442b09fe9e9",
   "metadata": {},
   "outputs": [
    {
     "name": "stdout",
     "output_type": "stream",
     "text": [
      "tensor([[0.8801, 0.1596],\n",
      "        [1.4279, 1.1085]])\n",
      "tensor([[0.8801, 0.1596],\n",
      "        [1.4279, 1.1085]])\n"
     ]
    }
   ],
   "source": [
    "print(x + y)\n",
    "print(torch.add(x, y))"
   ]
  },
  {
   "cell_type": "code",
   "execution_count": 54,
   "id": "f0450505-fd5d-4810-82ad-31dda0434637",
   "metadata": {},
   "outputs": [
    {
     "name": "stdout",
     "output_type": "stream",
     "text": [
      "tensor([[0.8801, 0.1596],\n",
      "        [1.4279, 1.1085]])\n"
     ]
    }
   ],
   "source": [
    "result = torch.empty(2, 2)\n",
    "torch.add(x, y, out=result)\n",
    "print(result)"
   ]
  },
  {
   "cell_type": "code",
   "execution_count": 56,
   "id": "95fb6033-2028-4a62-bbd2-b8345785f5c2",
   "metadata": {},
   "outputs": [
    {
     "name": "stdout",
     "output_type": "stream",
     "text": [
      "tensor([[0.0698, 0.0101],\n",
      "        [0.6450, 0.7239]])\n",
      "tensor([[0.8801, 0.1596],\n",
      "        [1.4279, 1.1085]])\n",
      "tensor([[0.9499, 0.1697],\n",
      "        [2.0729, 1.8324]])\n"
     ]
    }
   ],
   "source": [
    "print(x)\n",
    "print(y)\n",
    "y.add_(x) # y += x\n",
    "print(y)"
   ]
  },
  {
   "cell_type": "code",
   "execution_count": 59,
   "id": "42deb1bf-db60-42e4-ad6a-61ffd921f7f1",
   "metadata": {},
   "outputs": [
    {
     "name": "stdout",
     "output_type": "stream",
     "text": [
      "tensor([[-0.8801, -0.1596],\n",
      "        [-1.4279, -1.1085]])\n",
      "tensor([[0.9499, 0.1697],\n",
      "        [2.0729, 1.8324]])\n",
      "tensor([[-1.8300, -0.3294],\n",
      "        [-3.5008, -2.9408]])\n",
      "tensor([[-1.8300, -0.3294],\n",
      "        [-3.5008, -2.9408]])\n",
      "tensor([[-1.8300, -0.3294],\n",
      "        [-3.5008, -2.9408]])\n"
     ]
    }
   ],
   "source": [
    "print(x)\n",
    "print(y)\n",
    "print(x - y)\n",
    "print(torch.sub(x, y))\n",
    "print(x.sub(y))"
   ]
  },
  {
   "cell_type": "code",
   "execution_count": 60,
   "id": "3bf6b889-0604-468d-9c91-ab1de6917ab4",
   "metadata": {},
   "outputs": [
    {
     "name": "stdout",
     "output_type": "stream",
     "text": [
      "tensor([[-0.8801, -0.1596],\n",
      "        [-1.4279, -1.1085]])\n",
      "tensor([[0.9499, 0.1697],\n",
      "        [2.0729, 1.8324]])\n",
      "tensor([[-0.8361, -0.0271],\n",
      "        [-2.9600, -2.0311]])\n",
      "tensor([[-0.8361, -0.0271],\n",
      "        [-2.9600, -2.0311]])\n",
      "tensor([[-0.8361, -0.0271],\n",
      "        [-2.9600, -2.0311]])\n"
     ]
    }
   ],
   "source": [
    "print(x)\n",
    "print(y)\n",
    "print(x * y)\n",
    "print(torch.mul(x, y))\n",
    "print(x.mul(y))"
   ]
  },
  {
   "cell_type": "code",
   "execution_count": 61,
   "id": "0b510067-3dbd-4785-9970-64049faa13ab",
   "metadata": {},
   "outputs": [
    {
     "name": "stdout",
     "output_type": "stream",
     "text": [
      "tensor([[-0.8801, -0.1596],\n",
      "        [-1.4279, -1.1085]])\n",
      "tensor([[0.9499, 0.1697],\n",
      "        [2.0729, 1.8324]])\n",
      "tensor([[-0.9265, -0.9404],\n",
      "        [-0.6888, -0.6049]])\n",
      "tensor([[-0.9265, -0.9404],\n",
      "        [-0.6888, -0.6049]])\n",
      "tensor([[-0.9265, -0.9404],\n",
      "        [-0.6888, -0.6049]])\n"
     ]
    }
   ],
   "source": [
    "print(x)\n",
    "print(y)\n",
    "print(x / y)\n",
    "print(torch.div(x, y))\n",
    "print(x.div(y))"
   ]
  },
  {
   "cell_type": "code",
   "execution_count": 64,
   "id": "7023acc3-6777-442f-b431-5aa6714bdb04",
   "metadata": {},
   "outputs": [
    {
     "name": "stdout",
     "output_type": "stream",
     "text": [
      "tensor([[-0.8801, -0.1596],\n",
      "        [-1.4279, -1.1085]])\n",
      "tensor([[0.9499, 0.1697],\n",
      "        [2.0729, 1.8324]])\n",
      "tensor([[-1.1670, -0.4419],\n",
      "        [-3.6542, -2.2735]])\n",
      "tensor([[-1.1670, -0.4419],\n",
      "        [-3.6542, -2.2735]])\n",
      "torch.return_types.svd(\n",
      "U=tensor([[-0.2744, -0.9616],\n",
      "        [-0.9616,  0.2744]]),\n",
      "S=tensor([4.4749, 0.2320]),\n",
      "V=tensor([[ 0.8568,  0.5156],\n",
      "        [ 0.5156, -0.8568]]))\n",
      "torch.return_types.linalg_svd(\n",
      "U=tensor([[-0.2744, -0.9616],\n",
      "        [-0.9616,  0.2744]]),\n",
      "S=tensor([4.4749, 0.2320]),\n",
      "Vh=tensor([[ 0.8568,  0.5156],\n",
      "        [ 0.5156, -0.8568]]))\n"
     ]
    }
   ],
   "source": [
    "print(x)\n",
    "print(y)\n",
    "print(torch.matmul(x, y))\n",
    "z = torch.mm(x, y)\n",
    "print(z)\n",
    "print(torch.svd(z))\n",
    "print(torch.linalg.svd(z))"
   ]
  },
  {
   "cell_type": "code",
   "execution_count": 68,
   "id": "f9d8ce31-e47d-41f1-8337-17a21d8869ff",
   "metadata": {},
   "outputs": [
    {
     "name": "stdout",
     "output_type": "stream",
     "text": [
      "tensor([[1., 2.],\n",
      "        [3., 4.]])\n",
      "tensor([1., 3.])\n",
      "tensor([2., 4.])\n",
      "tensor([1., 2.])\n",
      "tensor([3., 4.])\n"
     ]
    }
   ],
   "source": [
    "x = torch.Tensor([[1,2],\n",
    "                  [3,4]])\n",
    "print(x)\n",
    "print(x[:,0])\n",
    "print(x[:,1])\n",
    "print(x[0,:])\n",
    "print(x[1,:])"
   ]
  },
  {
   "cell_type": "code",
   "execution_count": 69,
   "id": "ff64d7e2-5164-49b9-8cab-21cc17a285f3",
   "metadata": {},
   "outputs": [
    {
     "name": "stdout",
     "output_type": "stream",
     "text": [
      "tensor([[ 1.1164,  2.6307, -1.5517,  0.8444, -1.4597],\n",
      "        [-0.4919, -0.1546, -1.8296, -0.1111,  1.0954],\n",
      "        [-0.0221, -0.1388, -1.0593,  0.3869, -1.4721],\n",
      "        [ 0.6832,  0.4839,  1.3538, -0.7167, -0.5300]])\n",
      "tensor([ 1.1164,  2.6307, -1.5517,  0.8444, -1.4597, -0.4919, -0.1546, -1.8296,\n",
      "        -0.1111,  1.0954, -0.0221, -0.1388, -1.0593,  0.3869, -1.4721,  0.6832,\n",
      "         0.4839,  1.3538, -0.7167, -0.5300])\n",
      "tensor([[ 1.1164,  2.6307, -1.5517,  0.8444],\n",
      "        [-1.4597, -0.4919, -0.1546, -1.8296],\n",
      "        [-0.1111,  1.0954, -0.0221, -0.1388],\n",
      "        [-1.0593,  0.3869, -1.4721,  0.6832],\n",
      "        [ 0.4839,  1.3538, -0.7167, -0.5300]])\n"
     ]
    }
   ],
   "source": [
    "x = torch.randn(4, 5)\n",
    "print(x)\n",
    "y = x.view(20)\n",
    "print(y)\n",
    "z = x.view(5, -1)\n",
    "print(z)"
   ]
  },
  {
   "cell_type": "code",
   "execution_count": 71,
   "id": "9a87dc74-e5de-4a55-bf2d-498c22d130ac",
   "metadata": {},
   "outputs": [
    {
     "name": "stdout",
     "output_type": "stream",
     "text": [
      "tensor([-0.2677])\n",
      "-0.2677339017391205\n",
      "torch.float32\n"
     ]
    }
   ],
   "source": [
    "x = torch.randn(1)\n",
    "print(x)\n",
    "print(x.item())\n",
    "print(x.dtype)"
   ]
  },
  {
   "cell_type": "code",
   "execution_count": 72,
   "id": "82318b30-1618-4fb8-bf97-e35912c71bdd",
   "metadata": {},
   "outputs": [
    {
     "name": "stdout",
     "output_type": "stream",
     "text": [
      "tensor([[[0.1418, 0.9463, 0.0862],\n",
      "         [0.9313, 0.1812, 0.6246],\n",
      "         [0.9229, 0.7695, 0.5216]]])\n",
      "torch.Size([1, 3, 3])\n"
     ]
    }
   ],
   "source": [
    "tensor = torch.rand(1, 3, 3)\n",
    "print(tensor)\n",
    "print(tensor.shape)"
   ]
  },
  {
   "cell_type": "code",
   "execution_count": 87,
   "id": "da5c3ae7-0dae-4c88-82f9-52a7ce7a38c5",
   "metadata": {},
   "outputs": [
    {
     "name": "stdout",
     "output_type": "stream",
     "text": [
      "tensor([[0.1418, 0.9463, 0.0862],\n",
      "        [0.9313, 0.1812, 0.6246],\n",
      "        [0.9229, 0.7695, 0.5216]])\n",
      "torch.Size([3, 3])\n"
     ]
    }
   ],
   "source": [
    "t = tensor.squeeze() # 차원 축소\n",
    "print(t)\n",
    "print(t.shape)"
   ]
  },
  {
   "cell_type": "code",
   "execution_count": 75,
   "id": "651794cc-5c0c-4161-9d7e-6513933a147e",
   "metadata": {},
   "outputs": [
    {
     "name": "stdout",
     "output_type": "stream",
     "text": [
      "tensor([[[0.1418, 0.9463, 0.0862],\n",
      "         [0.9313, 0.1812, 0.6246],\n",
      "         [0.9229, 0.7695, 0.5216]]])\n",
      "torch.Size([1, 3, 3])\n"
     ]
    }
   ],
   "source": [
    "t = torch.rand(3, 3)\n",
    "print(tensor)\n",
    "print(tensor.shape)"
   ]
  },
  {
   "cell_type": "code",
   "execution_count": 91,
   "id": "5d32724c-a51c-4873-a3f5-3da82cfd6d30",
   "metadata": {},
   "outputs": [
    {
     "name": "stdout",
     "output_type": "stream",
     "text": [
      "tensor([[[[[[0.1418, 0.9463, 0.0862],\n",
      "            [0.9313, 0.1812, 0.6246],\n",
      "            [0.9229, 0.7695, 0.5216]]]]]])\n",
      "torch.Size([1, 1, 1, 1, 3, 3])\n"
     ]
    }
   ],
   "source": [
    "t = tensor.unsqueeze(dim=0) # 차원 증가\n",
    "print(t)\n",
    "print(t.shape)"
   ]
  },
  {
   "cell_type": "code",
   "execution_count": 90,
   "id": "1f8ce917-4eb3-41aa-9435-9fd0e3031c1c",
   "metadata": {},
   "outputs": [
    {
     "name": "stdout",
     "output_type": "stream",
     "text": [
      "tensor([[[[[[0.1418],\n",
      "            [0.9463],\n",
      "            [0.0862]],\n",
      "\n",
      "           [[0.9313],\n",
      "            [0.1812],\n",
      "            [0.6246]],\n",
      "\n",
      "           [[0.9229],\n",
      "            [0.7695],\n",
      "            [0.5216]]]]]])\n",
      "torch.Size([1, 1, 1, 3, 3, 1])\n"
     ]
    }
   ],
   "source": [
    "t = tensor.unsqueeze(dim=5)\n",
    "print(t)\n",
    "print(t.shape)"
   ]
  },
  {
   "cell_type": "code",
   "execution_count": 93,
   "id": "4753d948-f3f9-4f2a-8426-054b9b819403",
   "metadata": {},
   "outputs": [
    {
     "name": "stdout",
     "output_type": "stream",
     "text": [
      "tensor([1., 4.])\n",
      "tensor([2., 5.])\n",
      "tensor([3., 6.])\n",
      "tensor([[1., 4.],\n",
      "        [2., 5.],\n",
      "        [3., 6.]])\n"
     ]
    }
   ],
   "source": [
    "x = torch.FloatTensor([1,4])\n",
    "print(x)\n",
    "y = torch.FloatTensor([2,5])\n",
    "print(y)\n",
    "z = torch.FloatTensor([3,6])\n",
    "print(z)\n",
    "\n",
    "print(torch.stack([x, y, z]))"
   ]
  },
  {
   "cell_type": "code",
   "execution_count": 94,
   "id": "1b0b1d02-d7ef-4219-b2bf-4b8848ebcc16",
   "metadata": {},
   "outputs": [
    {
     "name": "stdout",
     "output_type": "stream",
     "text": [
      "tensor([[[ 2.1116, -0.9596,  0.1327],\n",
      "         [ 1.2486,  1.6196,  0.0460],\n",
      "         [-0.9603, -0.8097,  0.6432]]])\n",
      "tensor([[[-1.6672,  1.0395,  1.1990],\n",
      "         [-1.2400,  1.5860,  0.1397],\n",
      "         [ 0.1473,  1.3266, -0.2905]]])\n",
      "tensor([[[ 2.1116, -0.9596,  0.1327],\n",
      "         [ 1.2486,  1.6196,  0.0460],\n",
      "         [-0.9603, -0.8097,  0.6432]],\n",
      "\n",
      "        [[-1.6672,  1.0395,  1.1990],\n",
      "         [-1.2400,  1.5860,  0.1397],\n",
      "         [ 0.1473,  1.3266, -0.2905]]])\n",
      "torch.Size([2, 3, 3])\n"
     ]
    }
   ],
   "source": [
    "a = torch.randn(1, 3, 3)\n",
    "print(a)\n",
    "b = torch.randn(1, 3, 3)\n",
    "print(b)\n",
    "c = torch.cat((a, b), dim=0)\n",
    "print(c)\n",
    "print(c.size())"
   ]
  },
  {
   "cell_type": "code",
   "execution_count": 95,
   "id": "f5c04d1b-3598-4a60-83c2-cdfb1d81dbea",
   "metadata": {},
   "outputs": [
    {
     "name": "stdout",
     "output_type": "stream",
     "text": [
      "tensor([[[ 2.1116, -0.9596,  0.1327],\n",
      "         [ 1.2486,  1.6196,  0.0460],\n",
      "         [-0.9603, -0.8097,  0.6432],\n",
      "         [-1.6672,  1.0395,  1.1990],\n",
      "         [-1.2400,  1.5860,  0.1397],\n",
      "         [ 0.1473,  1.3266, -0.2905]]])\n",
      "torch.Size([1, 6, 3])\n"
     ]
    }
   ],
   "source": [
    "c = torch.cat((a, b), dim=1)\n",
    "print(c)\n",
    "print(c.size())"
   ]
  },
  {
   "cell_type": "code",
   "execution_count": 96,
   "id": "726358bd-80ba-45e1-a851-f005f9d5808d",
   "metadata": {},
   "outputs": [
    {
     "name": "stdout",
     "output_type": "stream",
     "text": [
      "tensor([[[ 2.1116, -0.9596,  0.1327, -1.6672,  1.0395,  1.1990],\n",
      "         [ 1.2486,  1.6196,  0.0460, -1.2400,  1.5860,  0.1397],\n",
      "         [-0.9603, -0.8097,  0.6432,  0.1473,  1.3266, -0.2905]]])\n",
      "torch.Size([1, 3, 6])\n"
     ]
    }
   ],
   "source": [
    "c = torch.cat((a, b), dim=2)\n",
    "print(c)\n",
    "print(c.size())"
   ]
  },
  {
   "cell_type": "code",
   "execution_count": 97,
   "id": "58a6d065-c614-4699-ad7c-027ff6ee33bd",
   "metadata": {},
   "outputs": [
    {
     "name": "stdout",
     "output_type": "stream",
     "text": [
      "tensor([[0.6141, 0.8209, 0.2088, 0.7164, 0.7295, 0.2442],\n",
      "        [0.9264, 0.8866, 0.7660, 0.1550, 0.6690, 0.2030],\n",
      "        [0.0284, 0.0471, 0.1818, 0.7203, 0.9267, 0.7393]])\n",
      "tensor([[0.6141, 0.8209],\n",
      "        [0.9264, 0.8866],\n",
      "        [0.0284, 0.0471]])\n",
      "tensor([[0.2088, 0.7164],\n",
      "        [0.7660, 0.1550],\n",
      "        [0.1818, 0.7203]])\n",
      "tensor([[0.7295, 0.2442],\n",
      "        [0.6690, 0.2030],\n",
      "        [0.9267, 0.7393]])\n"
     ]
    }
   ],
   "source": [
    "tensor = torch.rand(3, 6)\n",
    "print(tensor)\n",
    "\n",
    "t1, t2, t3 = torch.chunk(tensor, 3, dim=1)\n",
    "print(t1)\n",
    "print(t2)\n",
    "print(t3)"
   ]
  },
  {
   "cell_type": "code",
   "execution_count": 98,
   "id": "4820156d-cb77-4954-85e0-7f14646ea770",
   "metadata": {},
   "outputs": [
    {
     "name": "stdout",
     "output_type": "stream",
     "text": [
      "tensor([[0.0909, 0.7104, 0.3831, 0.5859, 0.4333, 0.4761],\n",
      "        [0.8639, 0.3206, 0.2925, 0.3772, 0.1727, 0.5671],\n",
      "        [0.0580, 0.5874, 0.2330, 0.9042, 0.7898, 0.4520]])\n",
      "tensor([[0.0909, 0.7104, 0.3831],\n",
      "        [0.8639, 0.3206, 0.2925],\n",
      "        [0.0580, 0.5874, 0.2330]])\n",
      "tensor([[0.5859, 0.4333, 0.4761],\n",
      "        [0.3772, 0.1727, 0.5671],\n",
      "        [0.9042, 0.7898, 0.4520]])\n"
     ]
    }
   ],
   "source": [
    "tensor = torch.rand(3, 6)\n",
    "t1, t2 = torch.split(tensor, 3, dim=1)\n",
    "\n",
    "print(tensor)\n",
    "print(t1)\n",
    "print(t2)"
   ]
  },
  {
   "cell_type": "code",
   "execution_count": 99,
   "id": "ec13df52-bb33-4132-aab9-a951d028f22d",
   "metadata": {},
   "outputs": [
    {
     "name": "stdout",
     "output_type": "stream",
     "text": [
      "tensor([1., 1., 1., 1., 1., 1., 1.])\n"
     ]
    }
   ],
   "source": [
    "a = torch.ones(7)\n",
    "print(a)"
   ]
  },
  {
   "cell_type": "code",
   "execution_count": 100,
   "id": "9bc3ecf3-6f9e-4811-b6e8-4f463abfb87f",
   "metadata": {},
   "outputs": [
    {
     "name": "stdout",
     "output_type": "stream",
     "text": [
      "[1. 1. 1. 1. 1. 1. 1.]\n"
     ]
    }
   ],
   "source": [
    "b = a.numpy()\n",
    "print(b)"
   ]
  },
  {
   "cell_type": "code",
   "execution_count": 102,
   "id": "10044cce-cd1e-47a6-b056-d4ed180ca843",
   "metadata": {},
   "outputs": [
    {
     "name": "stdout",
     "output_type": "stream",
     "text": [
      "tensor([3., 3., 3., 3., 3., 3., 3.])\n",
      "[3. 3. 3. 3. 3. 3. 3.]\n"
     ]
    }
   ],
   "source": [
    "a.add_(1) # 메모리 공유\n",
    "print(a)\n",
    "print(b)"
   ]
  },
  {
   "cell_type": "code",
   "execution_count": 103,
   "id": "ead4a6fb-0147-421a-b8b3-7123aad04f0b",
   "metadata": {},
   "outputs": [],
   "source": [
    "import numpy as np"
   ]
  },
  {
   "cell_type": "code",
   "execution_count": 104,
   "id": "4cd454f2-b508-471a-856e-474f34d53b0f",
   "metadata": {},
   "outputs": [
    {
     "name": "stdout",
     "output_type": "stream",
     "text": [
      "[2. 2. 2. 2. 2. 2. 2.]\n",
      "tensor([2., 2., 2., 2., 2., 2., 2.], dtype=torch.float64)\n"
     ]
    }
   ],
   "source": [
    "a = np.ones(7)\n",
    "b = torch.from_numpy(a)\n",
    "np.add(a, 1, out=a)\n",
    "print(a)\n",
    "print(b)"
   ]
  },
  {
   "cell_type": "code",
   "execution_count": 105,
   "id": "672676ba-dc01-40b4-9bb8-412925719ad0",
   "metadata": {},
   "outputs": [
    {
     "name": "stdout",
     "output_type": "stream",
     "text": [
      "tensor([[-0.1308,  4.5432, -3.3892],\n",
      "        [ 2.3674, -0.3935,  2.7732],\n",
      "        [ 0.4041,  2.7086,  2.0598]])\n",
      "False\n"
     ]
    }
   ],
   "source": [
    "a = torch.randn(3, 3)\n",
    "a = a * 3\n",
    "print(a)\n",
    "print(a.requires_grad)"
   ]
  },
  {
   "cell_type": "code",
   "execution_count": 3,
   "id": "aa884c99-3eae-4c79-8529-721172a85f36",
   "metadata": {},
   "outputs": [],
   "source": [
    "import torch"
   ]
  },
  {
   "cell_type": "code",
   "execution_count": 8,
   "id": "f19da447-ec43-4cb7-9f2e-5d8b0be9ff59",
   "metadata": {},
   "outputs": [
    {
     "name": "stdout",
     "output_type": "stream",
     "text": [
      "tensor([[1., 2.],\n",
      "        [3., 4.]])\n",
      "tensor([[5., 6.],\n",
      "        [7., 8.]])\n",
      "tensor([[ 5., 12.],\n",
      "        [21., 32.]])\n",
      "tensor([[ 5., 12.],\n",
      "        [21., 32.]])\n"
     ]
    }
   ],
   "source": [
    "a = torch.FloatTensor([ [1, 2],\n",
    "                        [3, 4] ])\n",
    "print(a)\n",
    "\n",
    "b = torch.FloatTensor([ [5, 6],\n",
    "                        [7, 8] ])\n",
    "print(b)\n",
    "\n",
    "print(a.mul_(b))\n",
    "print(a)"
   ]
  },
  {
   "cell_type": "code",
   "execution_count": 13,
   "id": "6836422e-c16c-4f80-979d-538c2b017e39",
   "metadata": {},
   "outputs": [
    {
     "name": "stdout",
     "output_type": "stream",
     "text": [
      "tensor([[5., 6.],\n",
      "        [7., 8.]])\n",
      "tensor([11., 15.])\n",
      "tensor([12., 14.])\n"
     ]
    }
   ],
   "source": [
    "print(b)\n",
    "print(b.sum(dim=1))\n",
    "print(b.sum(dim=0))"
   ]
  },
  {
   "cell_type": "code",
   "execution_count": 18,
   "id": "64cb4a2d-e396-41b4-93e5-61b43c82a53b",
   "metadata": {},
   "outputs": [
    {
     "name": "stdout",
     "output_type": "stream",
     "text": [
      "tensor([[1., 1., 1., 1.],\n",
      "        [1., 1., 1., 1.],\n",
      "        [1., 1., 1., 1.]])\n"
     ]
    }
   ],
   "source": [
    "y = torch.empty(3, 4)\n",
    "x = torch.ones_like(y)\n",
    "print(x)"
   ]
  },
  {
   "cell_type": "code",
   "execution_count": 24,
   "id": "af0fbb7d-80d8-4eac-b93b-39180266746c",
   "metadata": {},
   "outputs": [
    {
     "name": "stdout",
     "output_type": "stream",
     "text": [
      "tensor([[[1., 2., 3.],\n",
      "         [4., 5., 6.],\n",
      "         [7., 8., 9.]],\n",
      "\n",
      "        [[1., 2., 3.],\n",
      "         [4., 5., 6.],\n",
      "         [7., 8., 9.]],\n",
      "\n",
      "        [[1., 2., 3.],\n",
      "         [4., 5., 6.],\n",
      "         [7., 8., 9.]]])\n",
      "tensor([1., 2., 3., 4., 5., 6., 7., 8., 9., 1., 2., 3., 4., 5., 6., 7., 8., 9.,\n",
      "        1., 2., 3., 4., 5., 6., 7., 8., 9.])\n"
     ]
    }
   ],
   "source": [
    "a = torch.FloatTensor([ [ [1,2,3],\n",
    "                          [4,5,6],\n",
    "                          [7,8,9] ],\n",
    "                        [ [1,2,3],\n",
    "                          [4,5,6],\n",
    "                          [7,8,9] ],\n",
    "                        [ [1,2,3],\n",
    "                          [4,5,6],\n",
    "                          [7,8,9] ] ])\n",
    "print(a)\n",
    "#print(a.view(9, -1))\n",
    "b = a.view(27)\n",
    "print(b)"
   ]
  },
  {
   "cell_type": "code",
   "execution_count": 32,
   "id": "536b0a98-c7e7-473b-8fb8-cc30dd8544fe",
   "metadata": {},
   "outputs": [
    {
     "name": "stdout",
     "output_type": "stream",
     "text": [
      "tensor([[[1., 2.],\n",
      "         [3., 4.]]])\n",
      "torch.Size([1, 2, 2])\n",
      "tensor([[1., 2.],\n",
      "        [3., 4.]])\n",
      "torch.Size([2, 2])\n"
     ]
    }
   ],
   "source": [
    "x = torch.FloatTensor([[[1,2],\n",
    "                        [3,4]]])\n",
    "print(x)\n",
    "print(x.size())\n",
    "b = x.squeeze()\n",
    "print(b)\n",
    "print(b.size())\n",
    "#print(x.size())"
   ]
  },
  {
   "cell_type": "code",
   "execution_count": 37,
   "id": "61fff0ce-0a69-4b89-9910-c05ea6eb4767",
   "metadata": {},
   "outputs": [
    {
     "name": "stdout",
     "output_type": "stream",
     "text": [
      "tensor([[[ 1.,  2.],\n",
      "         [ 3.,  4.]],\n",
      "\n",
      "        [[ 5.,  6.],\n",
      "         [ 7.,  8.]],\n",
      "\n",
      "        [[ 9., 10.],\n",
      "         [11., 12.]]])\n",
      "torch.Size([3, 2, 2])\n",
      "tensor([[1., 2.],\n",
      "        [3., 4.]])\n",
      "tensor([[ 9., 10.],\n",
      "        [11., 12.]])\n"
     ]
    }
   ],
   "source": [
    "x = torch.FloatTensor([[[1,2],\n",
    "                        [3,4]],\n",
    "                       [[5,6],\n",
    "                        [7,8]],\n",
    "                       [[9,10],\n",
    "                        [11,12]]])\n",
    "print(x)\n",
    "print(x.shape)\n",
    "print(x[0])\n",
    "print(x[-1])"
   ]
  },
  {
   "cell_type": "code",
   "execution_count": 45,
   "id": "9fca9b62-2831-4b67-9389-00716039a09f",
   "metadata": {},
   "outputs": [
    {
     "name": "stdout",
     "output_type": "stream",
     "text": [
      "tensor([ 3.,  7., 11.])\n"
     ]
    }
   ],
   "source": [
    "print(x[:, 1, 0])"
   ]
  },
  {
   "cell_type": "code",
   "execution_count": 52,
   "id": "baf320c8-a44f-4e84-ad8a-0d0c72414825",
   "metadata": {},
   "outputs": [
    {
     "name": "stdout",
     "output_type": "stream",
     "text": [
      "tensor([[0., 0., 0., 0.],\n",
      "        [0., 0., 0., 0.],\n",
      "        [0., 0., 0., 0.],\n",
      "        [0., 0., 0., 0.],\n",
      "        [0., 0., 0., 0.],\n",
      "        [0., 0., 0., 0.],\n",
      "        [0., 0., 0., 0.],\n",
      "        [0., 0., 0., 0.],\n",
      "        [0., 0., 0., 0.],\n",
      "        [0., 0., 0., 0.]])\n",
      "(tensor([[0., 0., 0., 0.],\n",
      "        [0., 0., 0., 0.],\n",
      "        [0., 0., 0., 0.],\n",
      "        [0., 0., 0., 0.]]), tensor([[0., 0., 0., 0.],\n",
      "        [0., 0., 0., 0.],\n",
      "        [0., 0., 0., 0.],\n",
      "        [0., 0., 0., 0.]]), tensor([[0., 0., 0., 0.],\n",
      "        [0., 0., 0., 0.]]))\n"
     ]
    }
   ],
   "source": [
    "x = torch.FloatTensor(10, 4)\n",
    "print(x)\n",
    "splits = x.split(4, dim=0)\n",
    "#for i in splits:\n",
    "#    print(i.shape)\n",
    "print(splits)"
   ]
  },
  {
   "cell_type": "code",
   "execution_count": 54,
   "id": "83a15cd1-07d0-482c-9bc7-12c84b95226d",
   "metadata": {},
   "outputs": [
    {
     "name": "stdout",
     "output_type": "stream",
     "text": [
      "tensor([[4.5325e-17, 1.2906e-42, 0.0000e+00, 0.0000e+00],\n",
      "        [0.0000e+00, 0.0000e+00, 0.0000e+00, 0.0000e+00],\n",
      "        [0.0000e+00, 0.0000e+00, 0.0000e+00, 0.0000e+00],\n",
      "        [0.0000e+00, 0.0000e+00, 0.0000e+00, 0.0000e+00],\n",
      "        [0.0000e+00, 0.0000e+00, 0.0000e+00, 0.0000e+00],\n",
      "        [0.0000e+00, 0.0000e+00, 0.0000e+00, 0.0000e+00],\n",
      "        [0.0000e+00, 0.0000e+00, 0.0000e+00, 0.0000e+00],\n",
      "        [0.0000e+00, 0.0000e+00, 0.0000e+00, 0.0000e+00]])\n",
      "(tensor([[4.5325e-17, 1.2906e-42, 0.0000e+00, 0.0000e+00],\n",
      "        [0.0000e+00, 0.0000e+00, 0.0000e+00, 0.0000e+00],\n",
      "        [0.0000e+00, 0.0000e+00, 0.0000e+00, 0.0000e+00]]), tensor([[0., 0., 0., 0.],\n",
      "        [0., 0., 0., 0.],\n",
      "        [0., 0., 0., 0.]]), tensor([[0., 0., 0., 0.],\n",
      "        [0., 0., 0., 0.]]))\n"
     ]
    }
   ],
   "source": [
    "x = torch.FloatTensor(8, 4)\n",
    "print(x)\n",
    "print(x.chunk(3, dim=0))"
   ]
  },
  {
   "cell_type": "code",
   "execution_count": 58,
   "id": "a98e8a0e-dac9-41c6-b8b8-0ad84caf252b",
   "metadata": {},
   "outputs": [
    {
     "name": "stdout",
     "output_type": "stream",
     "text": [
      "tensor([[-1.1767,  0.2171, -0.0067,  2.3157],\n",
      "        [-0.0283, -0.0633,  0.6444,  0.4157],\n",
      "        [-0.1581,  0.5907,  0.9932,  0.8751],\n",
      "        [-0.1787,  0.4099,  0.5122,  1.5032],\n",
      "        [ 0.2181, -0.5727,  0.4776, -1.0554],\n",
      "        [ 0.2306,  0.5111, -1.1738,  0.7318],\n",
      "        [-0.3224, -0.7546, -0.1734,  0.6129],\n",
      "        [ 0.6663, -0.0160, -0.7057, -0.7020]])\n"
     ]
    }
   ],
   "source": [
    "x = torch.randn(8, 4, dtype=torch.float)\n",
    "print(x)"
   ]
  },
  {
   "cell_type": "code",
   "execution_count": 64,
   "id": "ab4d5afe-fbb5-418a-8e37-b74439b143a7",
   "metadata": {},
   "outputs": [
    {
     "name": "stdout",
     "output_type": "stream",
     "text": [
      "tensor([[1., 2., 3.],\n",
      "        [4., 5., 6.],\n",
      "        [7., 8., 9.]])\n",
      "tensor([[10., 11., 12.],\n",
      "        [13., 14., 15.],\n",
      "        [16., 17., 18.]])\n",
      "tensor([[ 1.,  2.,  3.],\n",
      "        [ 4.,  5.,  6.],\n",
      "        [ 7.,  8.,  9.],\n",
      "        [10., 11., 12.],\n",
      "        [13., 14., 15.],\n",
      "        [16., 17., 18.]])\n",
      "tensor([[ 1.,  2.,  3., 10., 11., 12.],\n",
      "        [ 4.,  5.,  6., 13., 14., 15.],\n",
      "        [ 7.,  8.,  9., 16., 17., 18.]])\n"
     ]
    }
   ],
   "source": [
    "a = torch.FloatTensor([[1,2,3],\n",
    "                        [4,5,6],\n",
    "                        [7,8,9]])\n",
    "b = torch.FloatTensor([[10,11,12],\n",
    "                        [13,14,15],\n",
    "                        [16,17,18]])\n",
    "print(a)\n",
    "print(b)\n",
    "print(torch.cat([a,b], dim=0))\n",
    "print(torch.cat([a,b], dim=1))"
   ]
  },
  {
   "cell_type": "code",
   "execution_count": 67,
   "id": "eba76d37-d80b-452b-9d51-781320d8acaa",
   "metadata": {},
   "outputs": [
    {
     "name": "stdout",
     "output_type": "stream",
     "text": [
      "tensor([[[ 1.,  2.,  3.],\n",
      "         [ 4.,  5.,  6.],\n",
      "         [ 7.,  8.,  9.]],\n",
      "\n",
      "        [[10., 11., 12.],\n",
      "         [13., 14., 15.],\n",
      "         [16., 17., 18.]]])\n",
      "tensor([[[ 1., 10.],\n",
      "         [ 2., 11.],\n",
      "         [ 3., 12.]],\n",
      "\n",
      "        [[ 4., 13.],\n",
      "         [ 5., 14.],\n",
      "         [ 6., 15.]],\n",
      "\n",
      "        [[ 7., 16.],\n",
      "         [ 8., 17.],\n",
      "         [ 9., 18.]]])\n"
     ]
    }
   ],
   "source": [
    "print(torch.stack([a, b]))\n",
    "print(torch.stack([a, b], dim=-1))"
   ]
  },
  {
   "cell_type": "code",
   "execution_count": 68,
   "id": "59edb8a9-8cad-4d50-801e-84fdff723d3f",
   "metadata": {},
   "outputs": [
    {
     "name": "stdout",
     "output_type": "stream",
     "text": [
      "tensor([[[1.6000e+01, 2.3694e-38],\n",
      "         [2.3694e-38, 1.1252e-05]],\n",
      "\n",
      "        [[1.5000e+01, 2.3694e-38],\n",
      "         [1.1000e+01, 4.0000e+00]],\n",
      "\n",
      "        [[1.4000e+01, 2.3694e-38],\n",
      "         [3.0000e+00, 4.0000e+00]],\n",
      "\n",
      "        [[1.3000e+01, 0.0000e+00],\n",
      "         [2.3694e-38, 2.3694e-38]],\n",
      "\n",
      "        [[1.2000e+01, 2.3694e-38],\n",
      "         [3.0000e+00, 4.0000e+00]]])\n"
     ]
    }
   ],
   "source": [
    "result = []\n",
    "for i in range(5):\n",
    "    x = torch.FloatTensor(2, 2)\n",
    "    result += [x]\n",
    "\n",
    "result = torch.stack(result)\n",
    "print(result)"
   ]
  },
  {
   "cell_type": "code",
   "execution_count": 73,
   "id": "d37b8b9f-83de-45d5-b7ee-61acac699a87",
   "metadata": {},
   "outputs": [
    {
     "name": "stdout",
     "output_type": "stream",
     "text": [
      "torch.Size([2, 1, 2])\n",
      "torch.Size([2, 3, 2])\n",
      "tensor([[[1., 2.],\n",
      "         [1., 2.],\n",
      "         [1., 2.]],\n",
      "\n",
      "        [[3., 4.],\n",
      "         [3., 4.],\n",
      "         [3., 4.]]])\n"
     ]
    }
   ],
   "source": [
    "x = torch.FloatTensor([[[1,2]],\n",
    "                        [[3,4]]])\n",
    "print(x.shape)\n",
    "\n",
    "y = x.expand(2, 3, 2)\n",
    "print(y.shape)\n",
    "print(y)"
   ]
  },
  {
   "cell_type": "code",
   "execution_count": 75,
   "id": "5fac08b5-c1df-4748-9b05-c8a6526ea0f0",
   "metadata": {},
   "outputs": [
    {
     "name": "stdout",
     "output_type": "stream",
     "text": [
      "torch.Size([2, 1, 2])\n",
      "tensor([[[1., 2.],\n",
      "         [1., 2.],\n",
      "         [1., 2.]],\n",
      "\n",
      "        [[3., 4.],\n",
      "         [3., 4.],\n",
      "         [3., 4.]]])\n"
     ]
    }
   ],
   "source": [
    "x = torch.FloatTensor([[[1,2]],\n",
    "                        [[3,4]]])\n",
    "print(x.shape)\n",
    "\n",
    "y = torch.cat([x] * 3, dim=1)\n",
    "print(y)"
   ]
  },
  {
   "cell_type": "code",
   "execution_count": 77,
   "id": "08689ae9-46dd-42a1-a028-09fc5f45ee5e",
   "metadata": {},
   "outputs": [
    {
     "name": "stdout",
     "output_type": "stream",
     "text": [
      "tensor([5, 1, 6, 9, 8, 7, 2, 0, 3, 4])\n"
     ]
    }
   ],
   "source": [
    "x = torch.randperm(10)\n",
    "print(x)"
   ]
  },
  {
   "cell_type": "code",
   "execution_count": null,
   "id": "902a0704-d46e-4c7e-afd0-f25820215533",
   "metadata": {},
   "outputs": [],
   "source": []
  }
 ],
 "metadata": {
  "kernelspec": {
   "display_name": "Python 3 (ipykernel)",
   "language": "python",
   "name": "python3"
  },
  "language_info": {
   "codemirror_mode": {
    "name": "ipython",
    "version": 3
   },
   "file_extension": ".py",
   "mimetype": "text/x-python",
   "name": "python",
   "nbconvert_exporter": "python",
   "pygments_lexer": "ipython3",
   "version": "3.12.5"
  }
 },
 "nbformat": 4,
 "nbformat_minor": 5
}
